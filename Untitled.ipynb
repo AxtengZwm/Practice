{
 "cells": [
  {
   "cell_type": "code",
   "execution_count": 1,
   "metadata": {},
   "outputs": [],
   "source": [
    "#数据分析库\n",
    "import pandas as pd\n",
    "#科学计算库\n",
    "import numpy as np \n",
    "from pandas import Series,DataFrame\n",
    "\n",
    "data_train = pd.read_csv(\"titanic_train.csv\")\n",
    "data_test = pd.read_csv(\"titanic_test.csv\")"
   ]
  },
  {
   "cell_type": "code",
   "execution_count": null,
   "metadata": {},
   "outputs": [],
   "source": [
    "data_train.head(10)"
   ]
  },
  {
   "cell_type": "code",
   "execution_count": null,
   "metadata": {},
   "outputs": [],
   "source": [
    "data_test.head(10)"
   ]
  },
  {
   "cell_type": "code",
   "execution_count": null,
   "metadata": {},
   "outputs": [],
   "source": [
    "data_train.describe()#描述数据集"
   ]
  },
  {
   "cell_type": "code",
   "execution_count": null,
   "metadata": {},
   "outputs": [],
   "source": [
    "data_train.info()"
   ]
  },
  {
   "cell_type": "code",
   "execution_count": 2,
   "metadata": {},
   "outputs": [],
   "source": [
    "data_train[\"Age\"] = data_train['Age'].fillna(data_train['Age'].mean())"
   ]
  },
  {
   "cell_type": "code",
   "execution_count": null,
   "metadata": {},
   "outputs": [],
   "source": [
    "data_train.describe()"
   ]
  },
  {
   "cell_type": "code",
   "execution_count": 3,
   "metadata": {},
   "outputs": [],
   "source": [
    "from sklearn.linear_model import LinearRegression   \n",
    "\n",
    "#训练集交叉验证，得到平均值\n",
    "#from sklearn.cross_validation import KFold \n",
    "from sklearn.model_selection import KFold\n",
    " \n",
    "#选取简单的可用输入特征\n",
    "predictors = [\"Pclass\",\"Age\",\"SibSp\",\"Parch\",\"Fare\"]     \n",
    " \n",
    "#初始化现行回归算法\n",
    "alg = LinearRegression()\n",
    "#样本平均分成3份，3折交叉验证\n",
    "#kf = KFold(data_train.shape[0],n_folds=3,random_state=1)   \n",
    "kf = KFold(n_splits=3,shuffle=False,random_state=None) \n",
    "\n",
    "predictions = []\n",
    "for train,test in kf.split(data_train):\n",
    "\t#The predictors we're using to train the algorithm.  Note how we only take then rows in the train folds.\n",
    "\ttrain_predictors = (data_train[predictors].iloc[train,:])\n",
    "\t#The target we're using to train the algorithm.\n",
    "\ttrain_target = data_train[\"Survived\"].iloc[train]\n",
    "\t#Training the algorithm using the predictors and target.\n",
    "\talg.fit(train_predictors,train_target)\n",
    "\t#We can now make predictions on the test fold\n",
    "\ttest_predictions = alg.predict(data_train[predictors].iloc[test,:])\n",
    "\tpredictions.append(test_predictions)\n",
    "\n"
   ]
  },
  {
   "cell_type": "code",
   "execution_count": 4,
   "metadata": {},
   "outputs": [
    {
     "name": "stdout",
     "output_type": "stream",
     "text": [
      "0.7003367003367004\n"
     ]
    }
   ],
   "source": [
    "predictions = np.concatenate(predictions,axis = 0)\n",
    "predictions[predictions>.5] = 1\n",
    "predictions[predictions<= .5] = 0\n",
    "accurary = sum(predictions == data_train[\"Survived\"]) / len(predictions)\n",
    "print(accurary)"
   ]
  },
  {
   "cell_type": "code",
   "execution_count": 15,
   "metadata": {},
   "outputs": [],
   "source": []
  },
  {
   "cell_type": "code",
   "execution_count": 16,
   "metadata": {},
   "outputs": [],
   "source": [
    "#缺失值用最多的S进行填充\n",
    "data_train[\"Embarked\"] = data_train[\"Embarked\"].fillna('S') \n",
    "#地点用0,1,2\n",
    "data_train.loc[data_train[\"Embarked\"] == \"S\",\"Embarked\"] = 0    \n",
    "data_train.loc[data_train[\"Embarked\"] == \"C\",\"Embarked\"] = 1\n",
    "data_train.loc[data_train[\"Embarked\"] == \"Q\",\"Embarked\"] = 2"
   ]
  },
  {
   "cell_type": "code",
   "execution_count": 22,
   "metadata": {},
   "outputs": [
    {
     "name": "stdout",
     "output_type": "stream",
     "text": [
      "准确率为:  0.7923681257014591\n"
     ]
    }
   ],
   "source": [
    "predictors = [\"Pclass\",\"Sex\",\"Age\",\"SibSp\",\"Parch\",\"Fare\",\"Embarked\"]  \n",
    "\n",
    "LogRegAlg=LogisticRegression(random_state=1)\n",
    "#Compute the accuracy score for all the cross validation folds.(much simpler than what we did before!)\n",
    "re = LogRegAlg.fit(data_train[predictors],data_train[\"Survived\"])\n",
    "scores = model_selection.cross_val_score(LogRegAlg,data_train[predictors],data_train[\"Survived\"],cv=3)\n",
    "#Take the mean of the scores (because we have one for each fold)\n",
    "print(\"准确率为: \",scores.mean())"
   ]
  },
  {
   "cell_type": "code",
   "execution_count": 24,
   "metadata": {},
   "outputs": [],
   "source": [
    "data_test[\"Age\"] = data_test[\"Age\"].fillna(data_test[\"Age\"].mean())\n",
    "data_test[\"Fare\"] = data_test[\"Fare\"].fillna(data_test[\"Fare\"].max())\n",
    "\n",
    "data_test.loc[data_test[\"Sex\"] == \"male\",\"Sex\"] = 0\n",
    "data_test.loc[data_test[\"Sex\"] == \"female\",\"Sex\"] = 1\n",
    "\n",
    "data_test[\"Embarked\"] = data_test[\"Embarked\"].fillna('S')\n",
    "\n",
    "data_test.loc[data_test[\"Embarked\"]==\"S\",\"Embarked\"] = 0\n",
    "data_test.loc[data_test[\"Embarked\"]==\"C\",\"Embarked\"] = 1\n",
    "data_test.loc[data_test[\"Embarked\"]==\"Q\",\"Embarked\"] = 2\n",
    "test_features = [\"Pclass\",\"Sex\",\"Age\",\"SibSp\",\"Parch\",\"Fare\",\"Embarked\"] \n",
    "data_test[\"Survived\"] = -1\n",
    "\n",
    "test_predictors = data_test[test_features]\n",
    "data_test[\"Survived\"] = LogRegAlg.predict(test_predictors)"
   ]
  },
  {
   "cell_type": "code",
   "execution_count": 26,
   "metadata": {},
   "outputs": [
    {
     "name": "stdout",
     "output_type": "stream",
     "text": [
      "KFold(n_splits=3, random_state=None, shuffle=False)\n",
      "[0.78787879 0.7979798  0.7979798 ]\n",
      "0.7946127946127947\n"
     ]
    }
   ],
   "source": [
    "from sklearn import model_selection\n",
    "from sklearn.ensemble import RandomForestClassifier\n",
    " \n",
    "predictors=[\"Pclass\",\"Sex\",\"Age\",\"SibSp\",\"Parch\",\"Fare\",\"Embarked\"]\n",
    " \n",
    "\n",
    "#10棵决策树，停止的条件：样本个数为2，叶子节点个数为1\n",
    "alg=RandomForestClassifier(random_state=1,n_estimators=10,min_samples_split=2,min_samples_leaf=1) \n",
    "\n",
    "#Compute the accuracy score for all the cross validation folds.  (much simpler than what we did before!)\n",
    "#kf=cross_validation.KFold(data_train.shape[0],n_folds=3,random_state=1)\n",
    "kf=model_selection.KFold(n_splits=3,shuffle=False, random_state=None)\n",
    "\n",
    "print(kf)\n",
    "scores=model_selection.cross_val_score(alg,data_train[predictors],data_train[\"Survived\"],cv=kf)\n",
    "print(scores)\n",
    "#Take the mean of the scores (because we have one for each fold)\n",
    "print(scores.mean())"
   ]
  },
  {
   "cell_type": "code",
   "execution_count": 28,
   "metadata": {},
   "outputs": [
    {
     "name": "stdout",
     "output_type": "stream",
     "text": [
      "[0.74444444 0.83146067 0.7752809  0.78651685 0.85393258 0.86516854\n",
      " 0.7752809  0.79775281 0.82022472 0.86516854]\n",
      "0.8115230961298376\n"
     ]
    }
   ],
   "source": [
    "alg=RandomForestClassifier(random_state=1,n_estimators=30,min_samples_split=2,min_samples_leaf=1) \n",
    "\n",
    "#Compute the accuracy score for all the cross validation folds.  (much simpler than what we did before!)\n",
    "#kf=cross_validation.KFold(data_train.shape[0],n_folds=10,random_state=1)\n",
    "kf=model_selection.KFold(n_splits=10,shuffle=False,random_state=None)\n",
    "\n",
    "scores=model_selection.cross_val_score(alg,data_train[predictors],data_train[\"Survived\"],cv=kf)\n",
    " \n",
    "print(scores)\n",
    "#Take the mean of the scores (because we have one for each fold)\n",
    "print(scores.mean())"
   ]
  },
  {
   "cell_type": "code",
   "execution_count": null,
   "metadata": {},
   "outputs": [],
   "source": []
  }
 ],
 "metadata": {
  "kernelspec": {
   "display_name": "Python 3",
   "language": "python",
   "name": "python3"
  },
  "language_info": {
   "codemirror_mode": {
    "name": "ipython",
    "version": 3
   },
   "file_extension": ".py",
   "mimetype": "text/x-python",
   "name": "python",
   "nbconvert_exporter": "python",
   "pygments_lexer": "ipython3",
   "version": "3.7.6"
  }
 },
 "nbformat": 4,
 "nbformat_minor": 4
}
